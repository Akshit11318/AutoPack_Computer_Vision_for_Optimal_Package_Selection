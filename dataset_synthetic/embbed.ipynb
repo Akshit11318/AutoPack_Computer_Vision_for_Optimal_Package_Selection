{
 "cells": [
  {
   "cell_type": "code",
   "execution_count": null,
   "id": "754fbe0b",
   "metadata": {},
   "outputs": [],
   "source": [
    "from PIL import Image, ImageDraw, ImageFont\n",
    "import os"
   ]
  },
  {
   "cell_type": "code",
   "execution_count": null,
   "id": "d092f319",
   "metadata": {},
   "outputs": [],
   "source": [
    "# Directories\n",
    "images_folder = 'predict'\n",
    "texts_folder = 'dataset/labels'\n",
    "final_dir = 'embedd'"
   ]
  },
  {
   "cell_type": "code",
   "execution_count": null,
   "id": "7e654ca7",
   "metadata": {},
   "outputs": [],
   "source": [
    "# Ensure the final directory exists\n",
    "if not os.path.exists(final_dir):\n",
    "    os.makedirs(final_dir)"
   ]
  },
  {
   "cell_type": "code",
   "execution_count": null,
   "id": "a7934472",
   "metadata": {},
   "outputs": [],
   "source": [
    "# Load font\n",
    "font_size = 20\n",
    "try:\n",
    "    # Try to load a default font\n",
    "    font = ImageFont.load_default()\n",
    "except IOError:\n",
    "    print(\"Default font loading failed. Please ensure Pillow is installed correctly.\")\n",
    "    font = ImageFont.load_default()"
   ]
  },
  {
   "cell_type": "code",
   "execution_count": null,
   "id": "317fa8b2",
   "metadata": {},
   "outputs": [],
   "source": [
    "# Get a list of all images\n",
    "image_files = [f for f in os.listdir(images_folder) if f.endswith('.jpg') or f.endswith('.png')]"
   ]
  },
  {
   "cell_type": "code",
   "execution_count": null,
   "id": "2b6a170f",
   "metadata": {},
   "outputs": [],
   "source": [
    "# Process each image and label\n",
    "for image_file in image_files:\n",
    "    print(f\"Processing file: {image_file}\")\n",
    "\n",
    "    # Load image\n",
    "    image_path = os.path.join(images_folder, image_file)\n",
    "    try:\n",
    "        image = Image.open(image_path)\n",
    "    except IOError as e:\n",
    "        print(f\"Error opening image {image_file}: {e}\")\n",
    "        continue\n",
    "\n",
    "    draw = ImageDraw.Draw(image)\n",
    "\n",
    "    # Determine the corresponding label file\n",
    "    base_name = os.path.splitext(image_file)[0]  # Remove file extension\n",
    "    label_file = f\"{base_name}.txt\"  # Use the base name to find the label file\n",
    "    label_path = os.path.join(texts_folder, label_file)\n",
    "\n",
    "    if os.path.exists(label_path):\n",
    "        with open(label_path, 'r') as file:\n",
    "            text = file.read().strip()\n",
    "        \n",
    "        print(f\"Label for {image_file}: {text}\")\n",
    "\n",
    "        # Get image dimensions\n",
    "        image_width, image_height = image.size\n",
    "\n",
    "        # Calculate text size and position\n",
    "        try:\n",
    "            bbox = draw.textbbox((0, 0), text, font=font)\n",
    "            text_width = bbox[2] - bbox[0]\n",
    "            text_height = bbox[3] - bbox[1]\n",
    "        except AttributeError:\n",
    "            print(\"Error calculating text size. Using default font.\")\n",
    "            bbox = draw.textbbox((0, 0), text, font=font)\n",
    "            text_width = bbox[2] - bbox[0]\n",
    "            text_height = bbox[3] - bbox[1]\n",
    "\n",
    "        text_x = image_width - text_width - 10  # 10 pixels from the right\n",
    "        text_y = 10  # 10 pixels from the top\n",
    "\n",
    "        # Print debug information\n",
    "        print(f\"Text bounding box: {bbox}\")\n",
    "        print(f\"Text position: ({text_x}, {text_y})\")\n",
    "\n",
    "        # Overlay text onto image\n",
    "        draw.text((text_x, text_y), text, font=font, fill=\"black\")\n",
    "\n",
    "        # Save the new image\n",
    "        final_image_path = os.path.join(final_dir, image_file)\n",
    "        try:\n",
    "            image.save(final_image_path)\n",
    "            print(f\"Saved image to {final_image_path}\")\n",
    "        except IOError as e:\n",
    "            print(f\"Error saving image {image_file}: {e}\")\n",
    "            continue\n",
    "    else:\n",
    "        print(f\"Label file {label_file} does not exist. Skipping.\")"
   ]
  },
  {
   "cell_type": "code",
   "execution_count": null,
   "id": "81244d8b",
   "metadata": {
    "lines_to_next_cell": 2
   },
   "outputs": [],
   "source": [
    "print(\"Processing complete. Check the 'embedd' directory for the output images.\")"
   ]
  }
 ],
 "metadata": {
  "jupytext": {
   "cell_metadata_filter": "-all",
   "main_language": "python",
   "notebook_metadata_filter": "-all"
  }
 },
 "nbformat": 4,
 "nbformat_minor": 5
}
